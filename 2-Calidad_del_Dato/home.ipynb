{
 "cells": [
  {
   "cell_type": "code",
   "execution_count": null,
   "metadata": {},
   "outputs": [],
   "source": [
    "#1\n",
    "#Se puede actualizar, la ultima venta se dio el 2020-12-30 00:00:00"
   ]
  },
  {
   "cell_type": "code",
   "execution_count": null,
   "metadata": {},
   "outputs": [],
   "source": [
    "#2 No estan todos completos."
   ]
  },
  {
   "cell_type": "code",
   "execution_count": null,
   "metadata": {},
   "outputs": [],
   "source": [
    "#3 La tabla de puntos de venta propios, un Excel frecuentemente utilizado para contactar a cada sucursal, actualizada en 2021.\n",
    "#* La tabla de empleados, un Excel mantenido por el personal administrativo de RRHH.\n",
    "#* La tabla de proveedores, un Excel mantenido por un analista de otra dirección que ya no esta en la empresa.\n",
    "#* La tabla de clientes, alojada en el CRM de la empresa.\n",
    "#* La tabla de productos, un Excel mantenido por otro analista.\n",
    "#* Las tablas de ventas, gastos y compras, tres archivos CSV generados a partir del sistema transaccional de la empresa."
   ]
  },
  {
   "cell_type": "code",
   "execution_count": null,
   "metadata": {},
   "outputs": [],
   "source": [
    "#4 Si esta clave normalizar"
   ]
  },
  {
   "cell_type": "code",
   "execution_count": null,
   "metadata": {},
   "outputs": [],
   "source": [
    "#5 Se pueden relacionar todas las tablas.La tablas de hechos son la de compra,venta,Gasto y las maestras tipo de gasto,sucursales,proveedores,productos,empleados,clientes,canaldeventa"
   ]
  }
 ],
 "metadata": {
  "kernelspec": {
   "display_name": "Python 3.8.2 64-bit",
   "language": "python",
   "name": "python3"
  },
  "language_info": {
   "name": "python",
   "version": "3.8.2"
  },
  "orig_nbformat": 4,
  "vscode": {
   "interpreter": {
    "hash": "570feb405e2e27c949193ac68f46852414290d515b0ba6e5d90d076ed2284471"
   }
  }
 },
 "nbformat": 4,
 "nbformat_minor": 2
}
